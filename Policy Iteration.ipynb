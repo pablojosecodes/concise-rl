{
 "cells": [
  {
   "cell_type": "markdown",
   "id": "cb78e073",
   "metadata": {},
   "source": [
    "Value based funcitons are based on the Bellman Equations.\n",
    "- $V^*(s) = \\underset{a}{\\text{max}} \\sum_{s'} P(s'|s,a)(R(s,a) + \\gamma V^*(s'))$\n",
    "- $Q^*(s,a) =  \\sum_{s'} P(s'|s,a)[R(s,a) + \\gamma \\underset{a}{\\text{max}} Q^*(s'])$\n",
    "\n",
    "And for completion- the deterministic versions\n",
    "- $V^*(s) = \\underset{a}{\\text{max}}(R(s,a) + \\gamma\\ V^*(s’))$\n",
    "- $Q^*(s,a) = R(s,a)  + \\gamma\\  \\underset{a'}{\\text{max}}\\ Q^*(s’,a'))$\n",
    "\n",
    "The goal is to optimize for expected reward which is defined as follows\n",
    "- $R = E_{\\tau \\sim p_\\theta(\\tau)}[\\sum_t R(s_t,a_t)]$\n",
    "\n",
    "If we know the transitions for all states (and there's a small number of them), we can just do policy iteration:\n",
    "- Evaluate best possible next action given state and current value function, take that action\n",
    "- Update value function based on observed reward\n",
    "\n",
    "Since we know all the transitions and states, we can essentialy just fill out a table of the values we know\n",
    "import numpy as np\n"
   ]
  },
  {
   "cell_type": "code",
   "execution_count": 1,
   "id": "120c37d1",
   "metadata": {},
   "outputs": [
    {
     "ename": "NameError",
     "evalue": "name 'np' is not defined",
     "output_type": "error",
     "traceback": [
      "\u001b[0;31m---------------------------------------------------------------------------\u001b[0m",
      "\u001b[0;31mNameError\u001b[0m                                 Traceback (most recent call last)",
      "Cell \u001b[0;32mIn[1], line 4\u001b[0m\n\u001b[1;32m      2\u001b[0m num_states \u001b[38;5;241m=\u001b[39m \u001b[38;5;241m5\u001b[39m\n\u001b[1;32m      3\u001b[0m num_actions \u001b[38;5;241m=\u001b[39m \u001b[38;5;241m2\u001b[39m\n\u001b[0;32m----> 4\u001b[0m rewards \u001b[38;5;241m=\u001b[39m \u001b[43mnp\u001b[49m\u001b[38;5;241m.\u001b[39marray([[\u001b[38;5;241m-\u001b[39m\u001b[38;5;241m1\u001b[39m, \u001b[38;5;241m-\u001b[39m\u001b[38;5;241m1\u001b[39m], [\u001b[38;5;241m-\u001b[39m\u001b[38;5;241m1\u001b[39m, \u001b[38;5;241m-\u001b[39m\u001b[38;5;241m1\u001b[39m], [\u001b[38;5;241m-\u001b[39m\u001b[38;5;241m1\u001b[39m, \u001b[38;5;241m-\u001b[39m\u001b[38;5;241m1\u001b[39m], [\u001b[38;5;241m-\u001b[39m\u001b[38;5;241m1\u001b[39m, \u001b[38;5;241m-\u001b[39m\u001b[38;5;241m1\u001b[39m], [\u001b[38;5;241m0\u001b[39m, \u001b[38;5;241m1\u001b[39m]])\n\u001b[1;32m      5\u001b[0m transitions \u001b[38;5;241m=\u001b[39m np\u001b[38;5;241m.\u001b[39marray([\n\u001b[1;32m      6\u001b[0m     [[\u001b[38;5;241m0.9\u001b[39m, \u001b[38;5;241m0.1\u001b[39m], [\u001b[38;5;241m0.5\u001b[39m, \u001b[38;5;241m0.5\u001b[39m]],\n\u001b[1;32m      7\u001b[0m     [[\u001b[38;5;241m0.8\u001b[39m, \u001b[38;5;241m0.2\u001b[39m], [\u001b[38;5;241m0.6\u001b[39m, \u001b[38;5;241m0.4\u001b[39m]],\n\u001b[0;32m   (...)\u001b[0m\n\u001b[1;32m     10\u001b[0m     [[\u001b[38;5;241m0.0\u001b[39m, \u001b[38;5;241m1.0\u001b[39m], [\u001b[38;5;241m0.0\u001b[39m, \u001b[38;5;241m1.0\u001b[39m]]\n\u001b[1;32m     11\u001b[0m ])\n\u001b[1;32m     13\u001b[0m \u001b[38;5;66;03m# Initialize policy and value function\u001b[39;00m\n",
      "\u001b[0;31mNameError\u001b[0m: name 'np' is not defined"
     ]
    }
   ],
   "source": [
    "\n",
    "# Define the MDP\n",
    "num_states = 5\n",
    "num_actions = 2\n",
    "rewards = np.array([[-1, -1], [-1, -1], [-1, -1], [-1, -1], [0, 1]])\n",
    "transitions = np.array([\n",
    "    [[0.9, 0.1], [0.5, 0.5]],\n",
    "    [[0.8, 0.2], [0.6, 0.4]],\n",
    "    [[0.7, 0.3], [0.3, 0.7]],\n",
    "    [[0.6, 0.4], [0.2, 0.8]],\n",
    "    [[0.0, 1.0], [0.0, 1.0]]\n",
    "])\n",
    "\n",
    "# Initialize policy and value function\n",
    "policy = np.zeros(num_states, dtype=int)\n",
    "value_func = np.zeros(num_states)\n",
    "gamma = 0.9  # Discount factor\n",
    "\n",
    "def policy_evaluation():\n",
    "    global value_func\n",
    "    while True:\n",
    "        delta = 0\n",
    "        for s in range(num_states):\n",
    "            v = value_func[s]\n",
    "            action = policy[s]\n",
    "            value_func[s] = rewards[s, action] + gamma * np.dot(transitions[s, action], value_func)\n",
    "            delta = max(delta, abs(v - value_func[s]))\n",
    "        if delta < 1e-5:\n",
    "            break\n",
    "\n",
    "def policy_improvement():\n",
    "    global policy\n",
    "    policy_stable = True\n",
    "    for s in range(num_states):\n",
    "        old_action = policy[s]\n",
    "        q_values = rewards[s] + gamma * np.dot(transitions[s], value_func)\n",
    "        policy[s] = np.argmax(q_values)\n",
    "        if old_action != policy[s]:\n",
    "            policy_stable = False\n",
    "    return policy_stable\n",
    "\n",
    "def policy_iteration():\n",
    "    while True:\n",
    "        policy_evaluation()\n",
    "        if policy_improvement():\n",
    "            break\n",
    "\n",
    "# Run policy iteration\n",
    "policy_iteration()\n",
    "\n",
    "print(\"Optimal Policy:\", policy)\n",
    "print(\"Optimal Value Function:\", value_func)"
   ]
  },
  {
   "cell_type": "code",
   "execution_count": null,
   "id": "db52be38",
   "metadata": {},
   "outputs": [],
   "source": []
  }
 ],
 "metadata": {
  "kernelspec": {
   "display_name": "Python 3 (ipykernel)",
   "language": "python",
   "name": "python3"
  },
  "language_info": {
   "codemirror_mode": {
    "name": "ipython",
    "version": 3
   },
   "file_extension": ".py",
   "mimetype": "text/x-python",
   "name": "python",
   "nbconvert_exporter": "python",
   "pygments_lexer": "ipython3",
   "version": "3.11.7"
  }
 },
 "nbformat": 4,
 "nbformat_minor": 5
}
